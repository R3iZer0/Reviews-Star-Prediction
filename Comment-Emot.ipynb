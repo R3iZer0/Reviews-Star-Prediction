{
 "cells": [
  {
   "cell_type": "code",
   "execution_count": 1,
   "metadata": {},
   "outputs": [],
   "source": [
    "import pandas as pd \n",
    "import numpy as np\n",
    "import matplotlib.pyplot as plt\n",
    "import seaborn as sns\n",
    "plt.style.use('ggplot') \n",
    "import nltk"
   ]
  },
  {
   "cell_type": "code",
   "execution_count": 2,
   "metadata": {},
   "outputs": [],
   "source": [
    "df=pd.read_csv('youtube_commentsTOMSCOT.csv')"
   ]
  },
  {
   "cell_type": "code",
   "execution_count": 3,
   "metadata": {},
   "outputs": [
    {
     "data": {
      "text/html": [
       "<div>\n",
       "<style scoped>\n",
       "    .dataframe tbody tr th:only-of-type {\n",
       "        vertical-align: middle;\n",
       "    }\n",
       "\n",
       "    .dataframe tbody tr th {\n",
       "        vertical-align: top;\n",
       "    }\n",
       "\n",
       "    .dataframe thead th {\n",
       "        text-align: right;\n",
       "    }\n",
       "</style>\n",
       "<table border=\"1\" class=\"dataframe\">\n",
       "  <thead>\n",
       "    <tr style=\"text-align: right;\">\n",
       "      <th></th>\n",
       "      <th>Comment</th>\n",
       "      <th>Author</th>\n",
       "      <th>Likes</th>\n",
       "    </tr>\n",
       "  </thead>\n",
       "  <tbody>\n",
       "    <tr>\n",
       "      <th>0</th>\n",
       "      <td>Don&amp;#39;t worry, I didn&amp;#39;t travel to New Je...</td>\n",
       "      <td>Tom Scott</td>\n",
       "      <td>22337</td>\n",
       "    </tr>\n",
       "    <tr>\n",
       "      <th>1</th>\n",
       "      <td>Telling the audience that you&amp;#39;re doing a t...</td>\n",
       "      <td>Anthony Harris</td>\n",
       "      <td>37983</td>\n",
       "    </tr>\n",
       "    <tr>\n",
       "      <th>2</th>\n",
       "      <td>It&amp;#39;s amazing how Tom manages to look like ...</td>\n",
       "      <td>T2and3</td>\n",
       "      <td>8023</td>\n",
       "    </tr>\n",
       "    <tr>\n",
       "      <th>3</th>\n",
       "      <td>What I love is that he not only answers the qu...</td>\n",
       "      <td>Mara Jade</td>\n",
       "      <td>3941</td>\n",
       "    </tr>\n",
       "    <tr>\n",
       "      <th>4</th>\n",
       "      <td>I have an auditory processing disorder. I noti...</td>\n",
       "      <td>Dorian</td>\n",
       "      <td>3293</td>\n",
       "    </tr>\n",
       "  </tbody>\n",
       "</table>\n",
       "</div>"
      ],
      "text/plain": [
       "                                             Comment          Author  Likes\n",
       "0  Don&#39;t worry, I didn&#39;t travel to New Je...       Tom Scott  22337\n",
       "1  Telling the audience that you&#39;re doing a t...  Anthony Harris  37983\n",
       "2  It&#39;s amazing how Tom manages to look like ...          T2and3   8023\n",
       "3  What I love is that he not only answers the qu...       Mara Jade   3941\n",
       "4  I have an auditory processing disorder. I noti...          Dorian   3293"
      ]
     },
     "execution_count": 3,
     "metadata": {},
     "output_type": "execute_result"
    }
   ],
   "source": [
    "df.head()"
   ]
  },
  {
   "cell_type": "code",
   "execution_count": 4,
   "metadata": {},
   "outputs": [],
   "source": [
    "df['Id']=range(1,len(df)+1)"
   ]
  },
  {
   "cell_type": "code",
   "execution_count": 5,
   "metadata": {},
   "outputs": [
    {
     "data": {
      "text/html": [
       "<div>\n",
       "<style scoped>\n",
       "    .dataframe tbody tr th:only-of-type {\n",
       "        vertical-align: middle;\n",
       "    }\n",
       "\n",
       "    .dataframe tbody tr th {\n",
       "        vertical-align: top;\n",
       "    }\n",
       "\n",
       "    .dataframe thead th {\n",
       "        text-align: right;\n",
       "    }\n",
       "</style>\n",
       "<table border=\"1\" class=\"dataframe\">\n",
       "  <thead>\n",
       "    <tr style=\"text-align: right;\">\n",
       "      <th></th>\n",
       "      <th>Comment</th>\n",
       "      <th>Author</th>\n",
       "      <th>Likes</th>\n",
       "      <th>Id</th>\n",
       "    </tr>\n",
       "  </thead>\n",
       "  <tbody>\n",
       "    <tr>\n",
       "      <th>0</th>\n",
       "      <td>Don&amp;#39;t worry, I didn&amp;#39;t travel to New Je...</td>\n",
       "      <td>Tom Scott</td>\n",
       "      <td>22337</td>\n",
       "      <td>1</td>\n",
       "    </tr>\n",
       "    <tr>\n",
       "      <th>1</th>\n",
       "      <td>Telling the audience that you&amp;#39;re doing a t...</td>\n",
       "      <td>Anthony Harris</td>\n",
       "      <td>37983</td>\n",
       "      <td>2</td>\n",
       "    </tr>\n",
       "    <tr>\n",
       "      <th>2</th>\n",
       "      <td>It&amp;#39;s amazing how Tom manages to look like ...</td>\n",
       "      <td>T2and3</td>\n",
       "      <td>8023</td>\n",
       "      <td>3</td>\n",
       "    </tr>\n",
       "    <tr>\n",
       "      <th>3</th>\n",
       "      <td>What I love is that he not only answers the qu...</td>\n",
       "      <td>Mara Jade</td>\n",
       "      <td>3941</td>\n",
       "      <td>4</td>\n",
       "    </tr>\n",
       "    <tr>\n",
       "      <th>4</th>\n",
       "      <td>I have an auditory processing disorder. I noti...</td>\n",
       "      <td>Dorian</td>\n",
       "      <td>3293</td>\n",
       "      <td>5</td>\n",
       "    </tr>\n",
       "  </tbody>\n",
       "</table>\n",
       "</div>"
      ],
      "text/plain": [
       "                                             Comment          Author  Likes  \\\n",
       "0  Don&#39;t worry, I didn&#39;t travel to New Je...       Tom Scott  22337   \n",
       "1  Telling the audience that you&#39;re doing a t...  Anthony Harris  37983   \n",
       "2  It&#39;s amazing how Tom manages to look like ...          T2and3   8023   \n",
       "3  What I love is that he not only answers the qu...       Mara Jade   3941   \n",
       "4  I have an auditory processing disorder. I noti...          Dorian   3293   \n",
       "\n",
       "   Id  \n",
       "0   1  \n",
       "1   2  \n",
       "2   3  \n",
       "3   4  \n",
       "4   5  "
      ]
     },
     "execution_count": 5,
     "metadata": {},
     "output_type": "execute_result"
    }
   ],
   "source": [
    "df.head()"
   ]
  },
  {
   "cell_type": "code",
   "execution_count": 6,
   "metadata": {},
   "outputs": [
    {
     "data": {
      "text/html": [
       "<div>\n",
       "<style scoped>\n",
       "    .dataframe tbody tr th:only-of-type {\n",
       "        vertical-align: middle;\n",
       "    }\n",
       "\n",
       "    .dataframe tbody tr th {\n",
       "        vertical-align: top;\n",
       "    }\n",
       "\n",
       "    .dataframe thead th {\n",
       "        text-align: right;\n",
       "    }\n",
       "</style>\n",
       "<table border=\"1\" class=\"dataframe\">\n",
       "  <thead>\n",
       "    <tr style=\"text-align: right;\">\n",
       "      <th></th>\n",
       "      <th>Likes</th>\n",
       "      <th>Id</th>\n",
       "    </tr>\n",
       "  </thead>\n",
       "  <tbody>\n",
       "    <tr>\n",
       "      <th>count</th>\n",
       "      <td>100.000000</td>\n",
       "      <td>100.000000</td>\n",
       "    </tr>\n",
       "    <tr>\n",
       "      <th>mean</th>\n",
       "      <td>1239.920000</td>\n",
       "      <td>50.500000</td>\n",
       "    </tr>\n",
       "    <tr>\n",
       "      <th>std</th>\n",
       "      <td>4612.232608</td>\n",
       "      <td>29.011492</td>\n",
       "    </tr>\n",
       "    <tr>\n",
       "      <th>min</th>\n",
       "      <td>0.000000</td>\n",
       "      <td>1.000000</td>\n",
       "    </tr>\n",
       "    <tr>\n",
       "      <th>25%</th>\n",
       "      <td>1.000000</td>\n",
       "      <td>25.750000</td>\n",
       "    </tr>\n",
       "    <tr>\n",
       "      <th>50%</th>\n",
       "      <td>4.000000</td>\n",
       "      <td>50.500000</td>\n",
       "    </tr>\n",
       "    <tr>\n",
       "      <th>75%</th>\n",
       "      <td>247.750000</td>\n",
       "      <td>75.250000</td>\n",
       "    </tr>\n",
       "    <tr>\n",
       "      <th>max</th>\n",
       "      <td>37983.000000</td>\n",
       "      <td>100.000000</td>\n",
       "    </tr>\n",
       "  </tbody>\n",
       "</table>\n",
       "</div>"
      ],
      "text/plain": [
       "              Likes          Id\n",
       "count    100.000000  100.000000\n",
       "mean    1239.920000   50.500000\n",
       "std     4612.232608   29.011492\n",
       "min        0.000000    1.000000\n",
       "25%        1.000000   25.750000\n",
       "50%        4.000000   50.500000\n",
       "75%      247.750000   75.250000\n",
       "max    37983.000000  100.000000"
      ]
     },
     "execution_count": 6,
     "metadata": {},
     "output_type": "execute_result"
    }
   ],
   "source": [
    "df.describe()"
   ]
  },
  {
   "cell_type": "code",
   "execution_count": null,
   "metadata": {},
   "outputs": [],
   "source": []
  },
  {
   "cell_type": "code",
   "execution_count": 7,
   "metadata": {},
   "outputs": [
    {
     "name": "stdout",
     "output_type": "stream",
     "text": [
      "No matter how long or short your videos are, theu always seem to have most amount information as possible just so much so its keeps wanting for more, keep up the kick ass work Tom\n"
     ]
    }
   ],
   "source": [
    "example=df['Comment'][50]\n",
    "print(example)"
   ]
  },
  {
   "attachments": {},
   "cell_type": "markdown",
   "metadata": {},
   "source": [
    "Vader polarity scores test"
   ]
  },
  {
   "cell_type": "code",
   "execution_count": 8,
   "metadata": {},
   "outputs": [
    {
     "name": "stderr",
     "output_type": "stream",
     "text": [
      "[nltk_data] Downloading package vader_lexicon to\n",
      "[nltk_data]     C:\\Users\\R3i\\AppData\\Roaming\\nltk_data...\n",
      "[nltk_data]   Package vader_lexicon is already up-to-date!\n"
     ]
    },
    {
     "data": {
      "text/plain": [
       "True"
      ]
     },
     "execution_count": 8,
     "metadata": {},
     "output_type": "execute_result"
    }
   ],
   "source": [
    "from nltk.sentiment import SentimentIntensityAnalyzer\n",
    "from tqdm.notebook import tqdm\n",
    "import nltk\n",
    "nltk.download('vader_lexicon')\n"
   ]
  },
  {
   "cell_type": "code",
   "execution_count": 9,
   "metadata": {},
   "outputs": [],
   "source": [
    "sia=SentimentIntensityAnalyzer()"
   ]
  },
  {
   "cell_type": "code",
   "execution_count": 10,
   "metadata": {},
   "outputs": [
    {
     "data": {
      "application/vnd.jupyter.widget-view+json": {
       "model_id": "3abcce33fdb04e1f8bbeac37970205c4",
       "version_major": 2,
       "version_minor": 0
      },
      "text/plain": [
       "  0%|          | 0/100 [00:00<?, ?it/s]"
      ]
     },
     "metadata": {},
     "output_type": "display_data"
    }
   ],
   "source": [
    "\n",
    "res={}\n",
    "for i, row in tqdm(df.iterrows(),total=len(df)):\n",
    "    text = row['Comment']\n",
    "    my_id=row['Id']\n",
    "    res[my_id]=sia.polarity_scores(text)"
   ]
  },
  {
   "cell_type": "code",
   "execution_count": null,
   "metadata": {},
   "outputs": [],
   "source": []
  },
  {
   "cell_type": "code",
   "execution_count": 11,
   "metadata": {},
   "outputs": [],
   "source": [
    "vader=pd.DataFrame(res).T\n",
    "vader=vader.reset_index().rename(columns={'index':'Id'})\n",
    "vader=vader.merge(df)\n",
    "\n"
   ]
  },
  {
   "cell_type": "code",
   "execution_count": 12,
   "metadata": {},
   "outputs": [
    {
     "data": {
      "text/html": [
       "<div>\n",
       "<style scoped>\n",
       "    .dataframe tbody tr th:only-of-type {\n",
       "        vertical-align: middle;\n",
       "    }\n",
       "\n",
       "    .dataframe tbody tr th {\n",
       "        vertical-align: top;\n",
       "    }\n",
       "\n",
       "    .dataframe thead th {\n",
       "        text-align: right;\n",
       "    }\n",
       "</style>\n",
       "<table border=\"1\" class=\"dataframe\">\n",
       "  <thead>\n",
       "    <tr style=\"text-align: right;\">\n",
       "      <th></th>\n",
       "      <th>Id</th>\n",
       "      <th>neg</th>\n",
       "      <th>neu</th>\n",
       "      <th>pos</th>\n",
       "      <th>compound</th>\n",
       "      <th>Comment</th>\n",
       "      <th>Author</th>\n",
       "      <th>Likes</th>\n",
       "    </tr>\n",
       "  </thead>\n",
       "  <tbody>\n",
       "    <tr>\n",
       "      <th>0</th>\n",
       "      <td>1</td>\n",
       "      <td>0.118</td>\n",
       "      <td>0.850</td>\n",
       "      <td>0.032</td>\n",
       "      <td>-0.6850</td>\n",
       "      <td>Don&amp;#39;t worry, I didn&amp;#39;t travel to New Je...</td>\n",
       "      <td>Tom Scott</td>\n",
       "      <td>22337</td>\n",
       "    </tr>\n",
       "    <tr>\n",
       "      <th>1</th>\n",
       "      <td>2</td>\n",
       "      <td>0.083</td>\n",
       "      <td>0.792</td>\n",
       "      <td>0.125</td>\n",
       "      <td>0.4939</td>\n",
       "      <td>Telling the audience that you&amp;#39;re doing a t...</td>\n",
       "      <td>Anthony Harris</td>\n",
       "      <td>37983</td>\n",
       "    </tr>\n",
       "    <tr>\n",
       "      <th>2</th>\n",
       "      <td>3</td>\n",
       "      <td>0.000</td>\n",
       "      <td>0.751</td>\n",
       "      <td>0.249</td>\n",
       "      <td>0.7430</td>\n",
       "      <td>It&amp;#39;s amazing how Tom manages to look like ...</td>\n",
       "      <td>T2and3</td>\n",
       "      <td>8023</td>\n",
       "    </tr>\n",
       "    <tr>\n",
       "      <th>3</th>\n",
       "      <td>4</td>\n",
       "      <td>0.000</td>\n",
       "      <td>0.845</td>\n",
       "      <td>0.155</td>\n",
       "      <td>0.4678</td>\n",
       "      <td>What I love is that he not only answers the qu...</td>\n",
       "      <td>Mara Jade</td>\n",
       "      <td>3941</td>\n",
       "    </tr>\n",
       "    <tr>\n",
       "      <th>4</th>\n",
       "      <td>5</td>\n",
       "      <td>0.112</td>\n",
       "      <td>0.830</td>\n",
       "      <td>0.058</td>\n",
       "      <td>-0.3415</td>\n",
       "      <td>I have an auditory processing disorder. I noti...</td>\n",
       "      <td>Dorian</td>\n",
       "      <td>3293</td>\n",
       "    </tr>\n",
       "  </tbody>\n",
       "</table>\n",
       "</div>"
      ],
      "text/plain": [
       "   Id    neg    neu    pos  compound  \\\n",
       "0   1  0.118  0.850  0.032   -0.6850   \n",
       "1   2  0.083  0.792  0.125    0.4939   \n",
       "2   3  0.000  0.751  0.249    0.7430   \n",
       "3   4  0.000  0.845  0.155    0.4678   \n",
       "4   5  0.112  0.830  0.058   -0.3415   \n",
       "\n",
       "                                             Comment          Author  Likes  \n",
       "0  Don&#39;t worry, I didn&#39;t travel to New Je...       Tom Scott  22337  \n",
       "1  Telling the audience that you&#39;re doing a t...  Anthony Harris  37983  \n",
       "2  It&#39;s amazing how Tom manages to look like ...          T2and3   8023  \n",
       "3  What I love is that he not only answers the qu...       Mara Jade   3941  \n",
       "4  I have an auditory processing disorder. I noti...          Dorian   3293  "
      ]
     },
     "execution_count": 12,
     "metadata": {},
     "output_type": "execute_result"
    }
   ],
   "source": [
    "vader.head()"
   ]
  },
  {
   "cell_type": "code",
   "execution_count": 13,
   "metadata": {},
   "outputs": [],
   "source": [
    "from transformers import AutoTokenizer\n",
    "from transformers import AutoModelForSequenceClassification\n",
    "from scipy.special import softmax"
   ]
  },
  {
   "cell_type": "code",
   "execution_count": 14,
   "metadata": {},
   "outputs": [],
   "source": [
    "MODEL = f\"cardiffnlp/twitter-roberta-base-sentiment\"\n",
    "tokenizer = AutoTokenizer.from_pretrained (MODEL)\n",
    "model = AutoModelForSequenceClassification.from_pretrained(MODEL)"
   ]
  },
  {
   "attachments": {},
   "cell_type": "markdown",
   "metadata": {},
   "source": [
    "VADER vs ROBERTA\n"
   ]
  },
  {
   "cell_type": "code",
   "execution_count": 15,
   "metadata": {},
   "outputs": [
    {
     "data": {
      "text/plain": [
       "{'neg': 0.147, 'neu': 0.825, 'pos': 0.028, 'compound': -0.6808}"
      ]
     },
     "execution_count": 15,
     "metadata": {},
     "output_type": "execute_result"
    }
   ],
   "source": [
    "sia.polarity_scores(example)"
   ]
  },
  {
   "cell_type": "code",
   "execution_count": 16,
   "metadata": {},
   "outputs": [
    {
     "data": {
      "text/plain": [
       "'No matter how long or short your videos are, theu always seem to have most amount information as possible just so much so its keeps wanting for more, keep up the kick ass work Tom'"
      ]
     },
     "execution_count": 16,
     "metadata": {},
     "output_type": "execute_result"
    }
   ],
   "source": [
    "example"
   ]
  },
  {
   "cell_type": "code",
   "execution_count": 17,
   "metadata": {},
   "outputs": [
    {
     "name": "stdout",
     "output_type": "stream",
     "text": [
      "{'roberta_neg': 0.005419907, 'roberta_neu': 0.07078101, 'roberta_pos': 0.92379904}\n"
     ]
    }
   ],
   "source": [
    "#Run for roberta\n",
    "\n",
    "encoded_text=tokenizer(example,return_tensors='pt')\n",
    "model(**encoded_text)\n",
    "scores=model(**encoded_text)[0][0].detach().numpy()\n",
    "scores=softmax(scores)\n",
    "scores_dict={\n",
    "    'roberta_neg':scores[0],\n",
    "    'roberta_neu':scores[1],\n",
    "    'roberta_pos':scores[2],\n",
    "}\n",
    "print(scores_dict)"
   ]
  },
  {
   "cell_type": "code",
   "execution_count": 18,
   "metadata": {},
   "outputs": [],
   "source": [
    "def polarity_scores_roberta(example):\n",
    "    encoded_text=tokenizer(example,return_tensors='pt')\n",
    "    model(**encoded_text)\n",
    "    scores=model(**encoded_text)[0][0].detach().numpy()\n",
    "    scores=softmax(scores)\n",
    "    scores_dict={\n",
    "        'roberta_neg':scores[0],\n",
    "        'roberta_neu':scores[1],\n",
    "        'roberta_pos':scores[2],\n",
    "    }\n",
    "    return scores_dict"
   ]
  },
  {
   "cell_type": "code",
   "execution_count": 19,
   "metadata": {},
   "outputs": [
    {
     "data": {
      "application/vnd.jupyter.widget-view+json": {
       "model_id": "01ea416c067547d6a007867684ed550c",
       "version_major": 2,
       "version_minor": 0
      },
      "text/plain": [
       "  0%|          | 0/100 [00:00<?, ?it/s]"
      ]
     },
     "metadata": {},
     "output_type": "display_data"
    }
   ],
   "source": [
    "res={}\n",
    "for i, row in tqdm(df.iterrows(),total=len(df)):\n",
    "    try:\n",
    "        text = row['Comment']\n",
    "        my_id=row['Id']\n",
    "        \n",
    "\n",
    "        roberta_result=polarity_scores_roberta(text)\n",
    "        res[my_id]=roberta_result\n",
    "    except RuntimeError:\n",
    "        print(f\"Broke for id {my_id}\")"
   ]
  },
  {
   "cell_type": "code",
   "execution_count": 20,
   "metadata": {},
   "outputs": [],
   "source": [
    "results_df=pd.DataFrame(res).T\n",
    "results_df=results_df.reset_index().rename(columns={'index':'Id'})\n",
    "results_df=results_df.merge(df,how='left')"
   ]
  },
  {
   "cell_type": "code",
   "execution_count": 21,
   "metadata": {},
   "outputs": [
    {
     "data": {
      "text/html": [
       "<div>\n",
       "<style scoped>\n",
       "    .dataframe tbody tr th:only-of-type {\n",
       "        vertical-align: middle;\n",
       "    }\n",
       "\n",
       "    .dataframe tbody tr th {\n",
       "        vertical-align: top;\n",
       "    }\n",
       "\n",
       "    .dataframe thead th {\n",
       "        text-align: right;\n",
       "    }\n",
       "</style>\n",
       "<table border=\"1\" class=\"dataframe\">\n",
       "  <thead>\n",
       "    <tr style=\"text-align: right;\">\n",
       "      <th></th>\n",
       "      <th>Id</th>\n",
       "      <th>roberta_neg</th>\n",
       "      <th>roberta_neu</th>\n",
       "      <th>roberta_pos</th>\n",
       "      <th>Comment</th>\n",
       "      <th>Author</th>\n",
       "      <th>Likes</th>\n",
       "    </tr>\n",
       "  </thead>\n",
       "  <tbody>\n",
       "    <tr>\n",
       "      <th>0</th>\n",
       "      <td>1</td>\n",
       "      <td>0.559226</td>\n",
       "      <td>0.345693</td>\n",
       "      <td>0.095082</td>\n",
       "      <td>Don&amp;#39;t worry, I didn&amp;#39;t travel to New Je...</td>\n",
       "      <td>Tom Scott</td>\n",
       "      <td>22337</td>\n",
       "    </tr>\n",
       "    <tr>\n",
       "      <th>1</th>\n",
       "      <td>2</td>\n",
       "      <td>0.245185</td>\n",
       "      <td>0.587087</td>\n",
       "      <td>0.167728</td>\n",
       "      <td>Telling the audience that you&amp;#39;re doing a t...</td>\n",
       "      <td>Anthony Harris</td>\n",
       "      <td>37983</td>\n",
       "    </tr>\n",
       "    <tr>\n",
       "      <th>2</th>\n",
       "      <td>3</td>\n",
       "      <td>0.013761</td>\n",
       "      <td>0.165677</td>\n",
       "      <td>0.820563</td>\n",
       "      <td>It&amp;#39;s amazing how Tom manages to look like ...</td>\n",
       "      <td>T2and3</td>\n",
       "      <td>8023</td>\n",
       "    </tr>\n",
       "    <tr>\n",
       "      <th>3</th>\n",
       "      <td>4</td>\n",
       "      <td>0.017637</td>\n",
       "      <td>0.066208</td>\n",
       "      <td>0.916155</td>\n",
       "      <td>What I love is that he not only answers the qu...</td>\n",
       "      <td>Mara Jade</td>\n",
       "      <td>3941</td>\n",
       "    </tr>\n",
       "    <tr>\n",
       "      <th>4</th>\n",
       "      <td>5</td>\n",
       "      <td>0.214054</td>\n",
       "      <td>0.391593</td>\n",
       "      <td>0.394353</td>\n",
       "      <td>I have an auditory processing disorder. I noti...</td>\n",
       "      <td>Dorian</td>\n",
       "      <td>3293</td>\n",
       "    </tr>\n",
       "  </tbody>\n",
       "</table>\n",
       "</div>"
      ],
      "text/plain": [
       "   Id  roberta_neg  roberta_neu  roberta_pos  \\\n",
       "0   1     0.559226     0.345693     0.095082   \n",
       "1   2     0.245185     0.587087     0.167728   \n",
       "2   3     0.013761     0.165677     0.820563   \n",
       "3   4     0.017637     0.066208     0.916155   \n",
       "4   5     0.214054     0.391593     0.394353   \n",
       "\n",
       "                                             Comment          Author  Likes  \n",
       "0  Don&#39;t worry, I didn&#39;t travel to New Je...       Tom Scott  22337  \n",
       "1  Telling the audience that you&#39;re doing a t...  Anthony Harris  37983  \n",
       "2  It&#39;s amazing how Tom manages to look like ...          T2and3   8023  \n",
       "3  What I love is that he not only answers the qu...       Mara Jade   3941  \n",
       "4  I have an auditory processing disorder. I noti...          Dorian   3293  "
      ]
     },
     "execution_count": 21,
     "metadata": {},
     "output_type": "execute_result"
    }
   ],
   "source": [
    "results_df.head()"
   ]
  },
  {
   "cell_type": "code",
   "execution_count": 22,
   "metadata": {},
   "outputs": [],
   "source": [
    "def compare_columns(results_df):\n",
    "    conditions = [\n",
    "        (results_df['roberta_neg'] > results_df['roberta_neu']) & (results_df['roberta_neg'] > results_df['roberta_pos']),\n",
    "        (results_df['roberta_neu'] > results_df['roberta_neg']) & (results_df['roberta_neu'] > results_df['roberta_pos']),\n",
    "        (results_df['roberta_pos'] > results_df['roberta_neg']) & (results_df['roberta_pos'] > results_df['roberta_neu'])\n",
    "    ]\n",
    "\n",
    "    choices = ['Negative', 'Neutral', 'Positive']\n",
    "    results_df['result'] = pd.Series(np.select(conditions, choices, default='Equal'), index=df.index)\n",
    "    return results_df\n"
   ]
  },
  {
   "cell_type": "code",
   "execution_count": 23,
   "metadata": {},
   "outputs": [
    {
     "data": {
      "text/html": [
       "<div>\n",
       "<style scoped>\n",
       "    .dataframe tbody tr th:only-of-type {\n",
       "        vertical-align: middle;\n",
       "    }\n",
       "\n",
       "    .dataframe tbody tr th {\n",
       "        vertical-align: top;\n",
       "    }\n",
       "\n",
       "    .dataframe thead th {\n",
       "        text-align: right;\n",
       "    }\n",
       "</style>\n",
       "<table border=\"1\" class=\"dataframe\">\n",
       "  <thead>\n",
       "    <tr style=\"text-align: right;\">\n",
       "      <th></th>\n",
       "      <th>Id</th>\n",
       "      <th>roberta_neg</th>\n",
       "      <th>roberta_neu</th>\n",
       "      <th>roberta_pos</th>\n",
       "      <th>Comment</th>\n",
       "      <th>Author</th>\n",
       "      <th>Likes</th>\n",
       "    </tr>\n",
       "  </thead>\n",
       "  <tbody>\n",
       "    <tr>\n",
       "      <th>0</th>\n",
       "      <td>1</td>\n",
       "      <td>0.559226</td>\n",
       "      <td>0.345693</td>\n",
       "      <td>0.095082</td>\n",
       "      <td>Don&amp;#39;t worry, I didn&amp;#39;t travel to New Je...</td>\n",
       "      <td>Tom Scott</td>\n",
       "      <td>22337</td>\n",
       "    </tr>\n",
       "    <tr>\n",
       "      <th>1</th>\n",
       "      <td>2</td>\n",
       "      <td>0.245185</td>\n",
       "      <td>0.587087</td>\n",
       "      <td>0.167728</td>\n",
       "      <td>Telling the audience that you&amp;#39;re doing a t...</td>\n",
       "      <td>Anthony Harris</td>\n",
       "      <td>37983</td>\n",
       "    </tr>\n",
       "    <tr>\n",
       "      <th>2</th>\n",
       "      <td>3</td>\n",
       "      <td>0.013761</td>\n",
       "      <td>0.165677</td>\n",
       "      <td>0.820563</td>\n",
       "      <td>It&amp;#39;s amazing how Tom manages to look like ...</td>\n",
       "      <td>T2and3</td>\n",
       "      <td>8023</td>\n",
       "    </tr>\n",
       "    <tr>\n",
       "      <th>3</th>\n",
       "      <td>4</td>\n",
       "      <td>0.017637</td>\n",
       "      <td>0.066208</td>\n",
       "      <td>0.916155</td>\n",
       "      <td>What I love is that he not only answers the qu...</td>\n",
       "      <td>Mara Jade</td>\n",
       "      <td>3941</td>\n",
       "    </tr>\n",
       "    <tr>\n",
       "      <th>4</th>\n",
       "      <td>5</td>\n",
       "      <td>0.214054</td>\n",
       "      <td>0.391593</td>\n",
       "      <td>0.394353</td>\n",
       "      <td>I have an auditory processing disorder. I noti...</td>\n",
       "      <td>Dorian</td>\n",
       "      <td>3293</td>\n",
       "    </tr>\n",
       "    <tr>\n",
       "      <th>...</th>\n",
       "      <td>...</td>\n",
       "      <td>...</td>\n",
       "      <td>...</td>\n",
       "      <td>...</td>\n",
       "      <td>...</td>\n",
       "      <td>...</td>\n",
       "      <td>...</td>\n",
       "    </tr>\n",
       "    <tr>\n",
       "      <th>95</th>\n",
       "      <td>96</td>\n",
       "      <td>0.001679</td>\n",
       "      <td>0.011936</td>\n",
       "      <td>0.986384</td>\n",
       "      <td>I love that he says &amp;#39;its okay! You can tru...</td>\n",
       "      <td>Sporkle BlueMoon</td>\n",
       "      <td>1</td>\n",
       "    </tr>\n",
       "    <tr>\n",
       "      <th>96</th>\n",
       "      <td>97</td>\n",
       "      <td>0.006576</td>\n",
       "      <td>0.059833</td>\n",
       "      <td>0.933590</td>\n",
       "      <td>I love how he just answers the question right ...</td>\n",
       "      <td>Lucas Tomasi Enderle</td>\n",
       "      <td>274</td>\n",
       "    </tr>\n",
       "    <tr>\n",
       "      <th>97</th>\n",
       "      <td>98</td>\n",
       "      <td>0.011024</td>\n",
       "      <td>0.154258</td>\n",
       "      <td>0.834718</td>\n",
       "      <td>tom is the type of person who, despite not hav...</td>\n",
       "      <td>Xcyiterr</td>\n",
       "      <td>0</td>\n",
       "    </tr>\n",
       "    <tr>\n",
       "      <th>98</th>\n",
       "      <td>99</td>\n",
       "      <td>0.003850</td>\n",
       "      <td>0.021572</td>\n",
       "      <td>0.974578</td>\n",
       "      <td>Your videos are a land of answers to questions...</td>\n",
       "      <td>FitBigSexy123</td>\n",
       "      <td>0</td>\n",
       "    </tr>\n",
       "    <tr>\n",
       "      <th>99</th>\n",
       "      <td>100</td>\n",
       "      <td>0.010552</td>\n",
       "      <td>0.085902</td>\n",
       "      <td>0.903546</td>\n",
       "      <td>i love how he just got straight to the point</td>\n",
       "      <td>Antmilk</td>\n",
       "      <td>6</td>\n",
       "    </tr>\n",
       "  </tbody>\n",
       "</table>\n",
       "<p>100 rows × 7 columns</p>\n",
       "</div>"
      ],
      "text/plain": [
       "     Id  roberta_neg  roberta_neu  roberta_pos  \\\n",
       "0     1     0.559226     0.345693     0.095082   \n",
       "1     2     0.245185     0.587087     0.167728   \n",
       "2     3     0.013761     0.165677     0.820563   \n",
       "3     4     0.017637     0.066208     0.916155   \n",
       "4     5     0.214054     0.391593     0.394353   \n",
       "..  ...          ...          ...          ...   \n",
       "95   96     0.001679     0.011936     0.986384   \n",
       "96   97     0.006576     0.059833     0.933590   \n",
       "97   98     0.011024     0.154258     0.834718   \n",
       "98   99     0.003850     0.021572     0.974578   \n",
       "99  100     0.010552     0.085902     0.903546   \n",
       "\n",
       "                                              Comment                Author  \\\n",
       "0   Don&#39;t worry, I didn&#39;t travel to New Je...             Tom Scott   \n",
       "1   Telling the audience that you&#39;re doing a t...        Anthony Harris   \n",
       "2   It&#39;s amazing how Tom manages to look like ...                T2and3   \n",
       "3   What I love is that he not only answers the qu...             Mara Jade   \n",
       "4   I have an auditory processing disorder. I noti...                Dorian   \n",
       "..                                                ...                   ...   \n",
       "95  I love that he says &#39;its okay! You can tru...      Sporkle BlueMoon   \n",
       "96  I love how he just answers the question right ...  Lucas Tomasi Enderle   \n",
       "97  tom is the type of person who, despite not hav...              Xcyiterr   \n",
       "98  Your videos are a land of answers to questions...         FitBigSexy123   \n",
       "99       i love how he just got straight to the point               Antmilk   \n",
       "\n",
       "    Likes  \n",
       "0   22337  \n",
       "1   37983  \n",
       "2    8023  \n",
       "3    3941  \n",
       "4    3293  \n",
       "..    ...  \n",
       "95      1  \n",
       "96    274  \n",
       "97      0  \n",
       "98      0  \n",
       "99      6  \n",
       "\n",
       "[100 rows x 7 columns]"
      ]
     },
     "execution_count": 23,
     "metadata": {},
     "output_type": "execute_result"
    }
   ],
   "source": [
    "results_df"
   ]
  },
  {
   "cell_type": "code",
   "execution_count": 24,
   "metadata": {},
   "outputs": [],
   "source": [
    "result_data = compare_columns(results_df)\n"
   ]
  },
  {
   "cell_type": "code",
   "execution_count": 25,
   "metadata": {},
   "outputs": [
    {
     "data": {
      "text/html": [
       "<div>\n",
       "<style scoped>\n",
       "    .dataframe tbody tr th:only-of-type {\n",
       "        vertical-align: middle;\n",
       "    }\n",
       "\n",
       "    .dataframe tbody tr th {\n",
       "        vertical-align: top;\n",
       "    }\n",
       "\n",
       "    .dataframe thead th {\n",
       "        text-align: right;\n",
       "    }\n",
       "</style>\n",
       "<table border=\"1\" class=\"dataframe\">\n",
       "  <thead>\n",
       "    <tr style=\"text-align: right;\">\n",
       "      <th></th>\n",
       "      <th>Id</th>\n",
       "      <th>roberta_neg</th>\n",
       "      <th>roberta_neu</th>\n",
       "      <th>roberta_pos</th>\n",
       "      <th>Comment</th>\n",
       "      <th>Author</th>\n",
       "      <th>Likes</th>\n",
       "      <th>result</th>\n",
       "    </tr>\n",
       "  </thead>\n",
       "  <tbody>\n",
       "    <tr>\n",
       "      <th>0</th>\n",
       "      <td>1</td>\n",
       "      <td>0.559226</td>\n",
       "      <td>0.345693</td>\n",
       "      <td>0.095082</td>\n",
       "      <td>Don&amp;#39;t worry, I didn&amp;#39;t travel to New Je...</td>\n",
       "      <td>Tom Scott</td>\n",
       "      <td>22337</td>\n",
       "      <td>Negative</td>\n",
       "    </tr>\n",
       "    <tr>\n",
       "      <th>1</th>\n",
       "      <td>2</td>\n",
       "      <td>0.245185</td>\n",
       "      <td>0.587087</td>\n",
       "      <td>0.167728</td>\n",
       "      <td>Telling the audience that you&amp;#39;re doing a t...</td>\n",
       "      <td>Anthony Harris</td>\n",
       "      <td>37983</td>\n",
       "      <td>Neutral</td>\n",
       "    </tr>\n",
       "    <tr>\n",
       "      <th>2</th>\n",
       "      <td>3</td>\n",
       "      <td>0.013761</td>\n",
       "      <td>0.165677</td>\n",
       "      <td>0.820563</td>\n",
       "      <td>It&amp;#39;s amazing how Tom manages to look like ...</td>\n",
       "      <td>T2and3</td>\n",
       "      <td>8023</td>\n",
       "      <td>Positive</td>\n",
       "    </tr>\n",
       "    <tr>\n",
       "      <th>3</th>\n",
       "      <td>4</td>\n",
       "      <td>0.017637</td>\n",
       "      <td>0.066208</td>\n",
       "      <td>0.916155</td>\n",
       "      <td>What I love is that he not only answers the qu...</td>\n",
       "      <td>Mara Jade</td>\n",
       "      <td>3941</td>\n",
       "      <td>Positive</td>\n",
       "    </tr>\n",
       "    <tr>\n",
       "      <th>4</th>\n",
       "      <td>5</td>\n",
       "      <td>0.214054</td>\n",
       "      <td>0.391593</td>\n",
       "      <td>0.394353</td>\n",
       "      <td>I have an auditory processing disorder. I noti...</td>\n",
       "      <td>Dorian</td>\n",
       "      <td>3293</td>\n",
       "      <td>Positive</td>\n",
       "    </tr>\n",
       "    <tr>\n",
       "      <th>...</th>\n",
       "      <td>...</td>\n",
       "      <td>...</td>\n",
       "      <td>...</td>\n",
       "      <td>...</td>\n",
       "      <td>...</td>\n",
       "      <td>...</td>\n",
       "      <td>...</td>\n",
       "      <td>...</td>\n",
       "    </tr>\n",
       "    <tr>\n",
       "      <th>95</th>\n",
       "      <td>96</td>\n",
       "      <td>0.001679</td>\n",
       "      <td>0.011936</td>\n",
       "      <td>0.986384</td>\n",
       "      <td>I love that he says &amp;#39;its okay! You can tru...</td>\n",
       "      <td>Sporkle BlueMoon</td>\n",
       "      <td>1</td>\n",
       "      <td>Positive</td>\n",
       "    </tr>\n",
       "    <tr>\n",
       "      <th>96</th>\n",
       "      <td>97</td>\n",
       "      <td>0.006576</td>\n",
       "      <td>0.059833</td>\n",
       "      <td>0.933590</td>\n",
       "      <td>I love how he just answers the question right ...</td>\n",
       "      <td>Lucas Tomasi Enderle</td>\n",
       "      <td>274</td>\n",
       "      <td>Positive</td>\n",
       "    </tr>\n",
       "    <tr>\n",
       "      <th>97</th>\n",
       "      <td>98</td>\n",
       "      <td>0.011024</td>\n",
       "      <td>0.154258</td>\n",
       "      <td>0.834718</td>\n",
       "      <td>tom is the type of person who, despite not hav...</td>\n",
       "      <td>Xcyiterr</td>\n",
       "      <td>0</td>\n",
       "      <td>Positive</td>\n",
       "    </tr>\n",
       "    <tr>\n",
       "      <th>98</th>\n",
       "      <td>99</td>\n",
       "      <td>0.003850</td>\n",
       "      <td>0.021572</td>\n",
       "      <td>0.974578</td>\n",
       "      <td>Your videos are a land of answers to questions...</td>\n",
       "      <td>FitBigSexy123</td>\n",
       "      <td>0</td>\n",
       "      <td>Positive</td>\n",
       "    </tr>\n",
       "    <tr>\n",
       "      <th>99</th>\n",
       "      <td>100</td>\n",
       "      <td>0.010552</td>\n",
       "      <td>0.085902</td>\n",
       "      <td>0.903546</td>\n",
       "      <td>i love how he just got straight to the point</td>\n",
       "      <td>Antmilk</td>\n",
       "      <td>6</td>\n",
       "      <td>Positive</td>\n",
       "    </tr>\n",
       "  </tbody>\n",
       "</table>\n",
       "<p>100 rows × 8 columns</p>\n",
       "</div>"
      ],
      "text/plain": [
       "     Id  roberta_neg  roberta_neu  roberta_pos  \\\n",
       "0     1     0.559226     0.345693     0.095082   \n",
       "1     2     0.245185     0.587087     0.167728   \n",
       "2     3     0.013761     0.165677     0.820563   \n",
       "3     4     0.017637     0.066208     0.916155   \n",
       "4     5     0.214054     0.391593     0.394353   \n",
       "..  ...          ...          ...          ...   \n",
       "95   96     0.001679     0.011936     0.986384   \n",
       "96   97     0.006576     0.059833     0.933590   \n",
       "97   98     0.011024     0.154258     0.834718   \n",
       "98   99     0.003850     0.021572     0.974578   \n",
       "99  100     0.010552     0.085902     0.903546   \n",
       "\n",
       "                                              Comment                Author  \\\n",
       "0   Don&#39;t worry, I didn&#39;t travel to New Je...             Tom Scott   \n",
       "1   Telling the audience that you&#39;re doing a t...        Anthony Harris   \n",
       "2   It&#39;s amazing how Tom manages to look like ...                T2and3   \n",
       "3   What I love is that he not only answers the qu...             Mara Jade   \n",
       "4   I have an auditory processing disorder. I noti...                Dorian   \n",
       "..                                                ...                   ...   \n",
       "95  I love that he says &#39;its okay! You can tru...      Sporkle BlueMoon   \n",
       "96  I love how he just answers the question right ...  Lucas Tomasi Enderle   \n",
       "97  tom is the type of person who, despite not hav...              Xcyiterr   \n",
       "98  Your videos are a land of answers to questions...         FitBigSexy123   \n",
       "99       i love how he just got straight to the point               Antmilk   \n",
       "\n",
       "    Likes    result  \n",
       "0   22337  Negative  \n",
       "1   37983   Neutral  \n",
       "2    8023  Positive  \n",
       "3    3941  Positive  \n",
       "4    3293  Positive  \n",
       "..    ...       ...  \n",
       "95      1  Positive  \n",
       "96    274  Positive  \n",
       "97      0  Positive  \n",
       "98      0  Positive  \n",
       "99      6  Positive  \n",
       "\n",
       "[100 rows x 8 columns]"
      ]
     },
     "execution_count": 25,
     "metadata": {},
     "output_type": "execute_result"
    }
   ],
   "source": [
    "result_data"
   ]
  },
  {
   "cell_type": "code",
   "execution_count": 26,
   "metadata": {},
   "outputs": [
    {
     "data": {
      "text/plain": [
       "<AxesSubplot: xlabel='result', ylabel='count'>"
      ]
     },
     "execution_count": 26,
     "metadata": {},
     "output_type": "execute_result"
    },
    {
     "data": {
      "image/png": "[encoded data removed]",
      "text/plain": [
       "<Figure size 640x480 with 1 Axes>"
      ]
     },
     "metadata": {},
     "output_type": "display_data"
    }
   ],
   "source": [
    "sns.countplot(x='result',data=result_data)"
   ]
  },
  {
   "cell_type": "code",
   "execution_count": 37,
   "metadata": {},
   "outputs": [
    {
     "data": {
      "application/vnd.plotly.v1+json": {
       "config": {
        "plotlyServerURL": "https://plot.ly"
       },
       "data": [
        {
         "alignmentgroup": "True",
         "hovertemplate": "result=%{x}<br>Likes=%{y}<extra></extra>",
         "legendgroup": "",
         "marker": {
          "color": "#636efa"
         },
         "name": "",
         "notched": false,
         "offsetgroup": "",
         "orientation": "v",
         "showlegend": false,
         "type": "box",
         "x": [
          "Negative",
          "Neutral",
          "Positive",
          "Positive",
          "Positive",
          "Positive",
          "Positive",
          "Negative",
          "Positive",
          "Neutral",
          "Neutral",
          "Negative",
          "Positive",
          "Neutral",
          "Neutral",
          "Positive",
          "Negative",
          "Positive",
          "Positive",
          "Negative",
          "Neutral",
          "Positive",
          "Positive",
          "Negative",
          "Positive",
          "Positive",
          "Positive",
          "Positive",
          "Positive",
          "Positive",
          "Neutral",
          "Positive",
          "Neutral",
          "Positive",
          "Positive",
          "Neutral",
          "Negative",
          "Negative",
          "Positive",
          "Positive",
          "Neutral",
          "Neutral",
          "Positive",
          "Positive",
          "Neutral",
          "Neutral",
          "Negative",
          "Positive",
          "Negative",
          "Negative",
          "Positive",
          "Positive",
          "Neutral",
          "Neutral",
          "Neutral",
          "Negative",
          "Negative",
          "Positive",
          "Positive",
          "Positive",
          "Neutral",
          "Positive",
          "Positive",
          "Neutral",
          "Positive",
          "Positive",
          "Neutral",
          "Neutral",
          "Negative",
          "Positive",
          "Neutral",
          "Negative",
          "Neutral",
          "Positive",
          "Neutral",
          "Positive",
          "Neutral",
          "Neutral",
          "Negative",
          "Positive",
          "Neutral",
          "Positive",
          "Positive",
          "Neutral",
          "Neutral",
          "Neutral",
          "Neutral",
          "Negative",
          "Positive",
          "Positive",
          "Neutral",
          "Positive",
          "Negative",
          "Positive",
          "Positive",
          "Positive",
          "Positive",
          "Positive",
          "Positive",
          "Positive"
         ],
         "x0": " ",
         "xaxis": "x",
         "y": [
          22337,
          37983,
          8023,
          3941,
          3293,
          440,
          216,
          723,
          166,
          471,
          669,
          239,
          9752,
          187,
          72,
          37,
          31,
          2085,
          346,
          23,
          2,
          15,
          8,
          4730,
          12,
          8,
          0,
          16,
          76,
          4823,
          4,
          1,
          1,
          3,
          5,
          4267,
          3,
          6,
          16,
          10,
          4,
          1,
          4179,
          5,
          4,
          1,
          5,
          2,
          3957,
          0,
          1,
          1,
          0,
          2,
          2593,
          2,
          2,
          1,
          2,
          0,
          483,
          0,
          7,
          0,
          2,
          0,
          725,
          0,
          0,
          1,
          1,
          0,
          760,
          2,
          1,
          0,
          0,
          1,
          4478,
          1,
          2,
          0,
          0,
          1,
          877,
          15,
          0,
          0,
          0,
          17,
          535,
          0,
          0,
          0,
          0,
          1,
          274,
          0,
          0,
          6
         ],
         "y0": " ",
         "yaxis": "y"
        }
       ],
       "layout": {
        "boxmode": "group",
        "legend": {
         "tracegroupgap": 0
        },
        "margin": {
         "t": 60
        },
        "template": {
         "data": {
          "bar": [
           {
            "error_x": {
             "color": "#2a3f5f"
            },
            "error_y": {
             "color": "#2a3f5f"
            },
            "marker": {
             "line": {
              "color": "#E5ECF6",
              "width": 0.5
             },
             "pattern": {
              "fillmode": "overlay",
              "size": 10,
              "solidity": 0.2
             }
            },
            "type": "bar"
           }
          ],
          "barpolar": [
           {
            "marker": {
             "line": {
              "color": "#E5ECF6",
              "width": 0.5
             },
             "pattern": {
              "fillmode": "overlay",
              "size": 10,
              "solidity": 0.2
             }
            },
            "type": "barpolar"
           }
          ],
          "carpet": [
           {
            "aaxis": {
             "endlinecolor": "#2a3f5f",
             "gridcolor": "white",
             "linecolor": "white",
             "minorgridcolor": "white",
             "startlinecolor": "#2a3f5f"
            },
            "baxis": {
             "endlinecolor": "#2a3f5f",
             "gridcolor": "white",
             "linecolor": "white",
             "minorgridcolor": "white",
             "startlinecolor": "#2a3f5f"
            },
            "type": "carpet"
           }
          ],
          "choropleth": [
           {
            "colorbar": {
             "outlinewidth": 0,
             "ticks": ""
            },
            "type": "choropleth"
           }
          ],
          "contour": [
           {
            "colorbar": {
             "outlinewidth": 0,
             "ticks": ""
            },
            "colorscale": [
             [
              0,
              "#0d0887"
             ],
             [
              0.1111111111111111,
              "#46039f"
             ],
             [
              0.2222222222222222,
              "#7201a8"
             ],
             [
              0.3333333333333333,
              "#9c179e"
             ],
             [
              0.4444444444444444,
              "#bd3786"
             ],
             [
              0.5555555555555556,
              "#d8576b"
             ],
             [
              0.6666666666666666,
              "#ed7953"
             ],
             [
              0.7777777777777778,
              "#fb9f3a"
             ],
             [
              0.8888888888888888,
              "#fdca26"
             ],
             [
              1,
              "#f0f921"
             ]
            ],
            "type": "contour"
           }
          ],
          "contourcarpet": [
           {
            "colorbar": {
             "outlinewidth": 0,
             "ticks": ""
            },
            "type": "contourcarpet"
           }
          ],
          "heatmap": [
           {
            "colorbar": {
             "outlinewidth": 0,
             "ticks": ""
            },
            "colorscale": [
             [
              0,
              "#0d0887"
             ],
             [
              0.1111111111111111,
              "#46039f"
             ],
             [
              0.2222222222222222,
              "#7201a8"
             ],
             [
              0.3333333333333333,
              "#9c179e"
             ],
             [
              0.4444444444444444,
              "#bd3786"
             ],
             [
              0.5555555555555556,
              "#d8576b"
             ],
             [
              0.6666666666666666,
              "#ed7953"
             ],
             [
              0.7777777777777778,
              "#fb9f3a"
             ],
             [
              0.8888888888888888,
              "#fdca26"
             ],
             [
              1,
              "#f0f921"
             ]
            ],
            "type": "heatmap"
           }
          ],
          "heatmapgl": [
           {
            "colorbar": {
             "outlinewidth": 0,
             "ticks": ""
            },
            "colorscale": [
             [
              0,
              "#0d0887"
             ],
             [
              0.1111111111111111,
              "#46039f"
             ],
             [
              0.2222222222222222,
              "#7201a8"
             ],
             [
              0.3333333333333333,
              "#9c179e"
             ],
             [
              0.4444444444444444,
              "#bd3786"
             ],
             [
              0.5555555555555556,
              "#d8576b"
             ],
             [
              0.6666666666666666,
              "#ed7953"
             ],
             [
              0.7777777777777778,
              "#fb9f3a"
             ],
             [
              0.8888888888888888,
              "#fdca26"
             ],
             [
              1,
              "#f0f921"
             ]
            ],
            "type": "heatmapgl"
           }
          ],
          "histogram": [
           {
            "marker": {
             "pattern": {
              "fillmode": "overlay",
              "size": 10,
              "solidity": 0.2
             }
            },
            "type": "histogram"
           }
          ],
          "histogram2d": [
           {
            "colorbar": {
             "outlinewidth": 0,
             "ticks": ""
            },
            "colorscale": [
             [
              0,
              "#0d0887"
             ],
             [
              0.1111111111111111,
              "#46039f"
             ],
             [
              0.2222222222222222,
              "#7201a8"
             ],
             [
              0.3333333333333333,
              "#9c179e"
             ],
             [
              0.4444444444444444,
              "#bd3786"
             ],
             [
              0.5555555555555556,
              "#d8576b"
             ],
             [
              0.6666666666666666,
              "#ed7953"
             ],
             [
              0.7777777777777778,
              "#fb9f3a"
             ],
             [
              0.8888888888888888,
              "#fdca26"
             ],
             [
              1,
              "#f0f921"
             ]
            ],
            "type": "histogram2d"
           }
          ],
          "histogram2dcontour": [
           {
            "colorbar": {
             "outlinewidth": 0,
             "ticks": ""
            },
            "colorscale": [
             [
              0,
              "#0d0887"
             ],
             [
              0.1111111111111111,
              "#46039f"
             ],
             [
              0.2222222222222222,
              "#7201a8"
             ],
             [
              0.3333333333333333,
              "#9c179e"
             ],
             [
              0.4444444444444444,
              "#bd3786"
             ],
             [
              0.5555555555555556,
              "#d8576b"
             ],
             [
              0.6666666666666666,
              "#ed7953"
             ],
             [
              0.7777777777777778,
              "#fb9f3a"
             ],
             [
              0.8888888888888888,
              "#fdca26"
             ],
             [
              1,
              "#f0f921"
             ]
            ],
            "type": "histogram2dcontour"
           }
          ],
          "mesh3d": [
           {
            "colorbar": {
             "outlinewidth": 0,
             "ticks": ""
            },
            "type": "mesh3d"
           }
          ],
          "parcoords": [
           {
            "line": {
             "colorbar": {
              "outlinewidth": 0,
              "ticks": ""
             }
            },
            "type": "parcoords"
           }
          ],
          "pie": [
           {
            "automargin": true,
            "type": "pie"
           }
          ],
          "scatter": [
           {
            "fillpattern": {
             "fillmode": "overlay",
             "size": 10,
             "solidity": 0.2
            },
            "type": "scatter"
           }
          ],
          "scatter3d": [
           {
            "line": {
             "colorbar": {
              "outlinewidth": 0,
              "ticks": ""
             }
            },
            "marker": {
             "colorbar": {
              "outlinewidth": 0,
              "ticks": ""
             }
            },
            "type": "scatter3d"
           }
          ],
          "scattercarpet": [
           {
            "marker": {
             "colorbar": {
              "outlinewidth": 0,
              "ticks": ""
             }
            },
            "type": "scattercarpet"
           }
          ],
          "scattergeo": [
           {
            "marker": {
             "colorbar": {
              "outlinewidth": 0,
              "ticks": ""
             }
            },
            "type": "scattergeo"
           }
          ],
          "scattergl": [
           {
            "marker": {
             "colorbar": {
              "outlinewidth": 0,
              "ticks": ""
             }
            },
            "type": "scattergl"
           }
          ],
          "scattermapbox": [
           {
            "marker": {
             "colorbar": {
              "outlinewidth": 0,
              "ticks": ""
             }
            },
            "type": "scattermapbox"
           }
          ],
          "scatterpolar": [
           {
            "marker": {
             "colorbar": {
              "outlinewidth": 0,
              "ticks": ""
             }
            },
            "type": "scatterpolar"
           }
          ],
          "scatterpolargl": [
           {
            "marker": {
             "colorbar": {
              "outlinewidth": 0,
              "ticks": ""
             }
            },
            "type": "scatterpolargl"
           }
          ],
          "scatterternary": [
           {
            "marker": {
             "colorbar": {
              "outlinewidth": 0,
              "ticks": ""
             }
            },
            "type": "scatterternary"
           }
          ],
          "surface": [
           {
            "colorbar": {
             "outlinewidth": 0,
             "ticks": ""
            },
            "colorscale": [
             [
              0,
              "#0d0887"
             ],
             [
              0.1111111111111111,
              "#46039f"
             ],
             [
              0.2222222222222222,
              "#7201a8"
             ],
             [
              0.3333333333333333,
              "#9c179e"
             ],
             [
              0.4444444444444444,
              "#bd3786"
             ],
             [
              0.5555555555555556,
              "#d8576b"
             ],
             [
              0.6666666666666666,
              "#ed7953"
             ],
             [
              0.7777777777777778,
              "#fb9f3a"
             ],
             [
              0.8888888888888888,
              "#fdca26"
             ],
             [
              1,
              "#f0f921"
             ]
            ],
            "type": "surface"
           }
          ],
          "table": [
           {
            "cells": {
             "fill": {
              "color": "#EBF0F8"
             },
             "line": {
              "color": "white"
             }
            },
            "header": {
             "fill": {
              "color": "#C8D4E3"
             },
             "line": {
              "color": "white"
             }
            },
            "type": "table"
           }
          ]
         },
         "layout": {
          "annotationdefaults": {
           "arrowcolor": "#2a3f5f",
           "arrowhead": 0,
           "arrowwidth": 1
          },
          "autotypenumbers": "strict",
          "coloraxis": {
           "colorbar": {
            "outlinewidth": 0,
            "ticks": ""
           }
          },
          "colorscale": {
           "diverging": [
            [
             0,
             "#8e0152"
            ],
            [
             0.1,
             "#c51b7d"
            ],
            [
             0.2,
             "#de77ae"
            ],
            [
             0.3,
             "#f1b6da"
            ],
            [
             0.4,
             "#fde0ef"
            ],
            [
             0.5,
             "#f7f7f7"
            ],
            [
             0.6,
             "#e6f5d0"
            ],
            [
             0.7,
             "#b8e186"
            ],
            [
             0.8,
             "#7fbc41"
            ],
            [
             0.9,
             "#4d9221"
            ],
            [
             1,
             "#276419"
            ]
           ],
           "sequential": [
            [
             0,
             "#0d0887"
            ],
            [
             0.1111111111111111,
             "#46039f"
            ],
            [
             0.2222222222222222,
             "#7201a8"
            ],
            [
             0.3333333333333333,
             "#9c179e"
            ],
            [
             0.4444444444444444,
             "#bd3786"
            ],
            [
             0.5555555555555556,
             "#d8576b"
            ],
            [
             0.6666666666666666,
             "#ed7953"
            ],
            [
             0.7777777777777778,
             "#fb9f3a"
            ],
            [
             0.8888888888888888,
             "#fdca26"
            ],
            [
             1,
             "#f0f921"
            ]
           ],
           "sequentialminus": [
            [
             0,
             "#0d0887"
            ],
            [
             0.1111111111111111,
             "#46039f"
            ],
            [
             0.2222222222222222,
             "#7201a8"
            ],
            [
             0.3333333333333333,
             "#9c179e"
            ],
            [
             0.4444444444444444,
             "#bd3786"
            ],
            [
             0.5555555555555556,
             "#d8576b"
            ],
            [
             0.6666666666666666,
             "#ed7953"
            ],
            [
             0.7777777777777778,
             "#fb9f3a"
            ],
            [
             0.8888888888888888,
             "#fdca26"
            ],
            [
             1,
             "#f0f921"
            ]
           ]
          },
          "colorway": [
           "#636efa",
           "#EF553B",
           "#00cc96",
           "#ab63fa",
           "#FFA15A",
           "#19d3f3",
           "#FF6692",
           "#B6E880",
           "#FF97FF",
           "#FECB52"
          ],
          "font": {
           "color": "#2a3f5f"
          },
          "geo": {
           "bgcolor": "white",
           "lakecolor": "white",
           "landcolor": "#E5ECF6",
           "showlakes": true,
           "showland": true,
           "subunitcolor": "white"
          },
          "hoverlabel": {
           "align": "left"
          },
          "hovermode": "closest",
          "mapbox": {
           "style": "light"
          },
          "paper_bgcolor": "white",
          "plot_bgcolor": "#E5ECF6",
          "polar": {
           "angularaxis": {
            "gridcolor": "white",
            "linecolor": "white",
            "ticks": ""
           },
           "bgcolor": "#E5ECF6",
           "radialaxis": {
            "gridcolor": "white",
            "linecolor": "white",
            "ticks": ""
           }
          },
          "scene": {
           "xaxis": {
            "backgroundcolor": "#E5ECF6",
            "gridcolor": "white",
            "gridwidth": 2,
            "linecolor": "white",
            "showbackground": true,
            "ticks": "",
            "zerolinecolor": "white"
           },
           "yaxis": {
            "backgroundcolor": "#E5ECF6",
            "gridcolor": "white",
            "gridwidth": 2,
            "linecolor": "white",
            "showbackground": true,
            "ticks": "",
            "zerolinecolor": "white"
           },
           "zaxis": {
            "backgroundcolor": "#E5ECF6",
            "gridcolor": "white",
            "gridwidth": 2,
            "linecolor": "white",
            "showbackground": true,
            "ticks": "",
            "zerolinecolor": "white"
           }
          },
          "shapedefaults": {
           "line": {
            "color": "#2a3f5f"
           }
          },
          "ternary": {
           "aaxis": {
            "gridcolor": "white",
            "linecolor": "white",
            "ticks": ""
           },
           "baxis": {
            "gridcolor": "white",
            "linecolor": "white",
            "ticks": ""
           },
           "bgcolor": "#E5ECF6",
           "caxis": {
            "gridcolor": "white",
            "linecolor": "white",
            "ticks": ""
           }
          },
          "title": {
           "x": 0.05
          },
          "xaxis": {
           "automargin": true,
           "gridcolor": "white",
           "linecolor": "white",
           "ticks": "",
           "title": {
            "standoff": 15
           },
           "zerolinecolor": "white",
           "zerolinewidth": 2
          },
          "yaxis": {
           "automargin": true,
           "gridcolor": "white",
           "linecolor": "white",
           "ticks": "",
           "title": {
            "standoff": 15
           },
           "zerolinecolor": "white",
           "zerolinewidth": 2
          }
         }
        },
        "xaxis": {
         "anchor": "y",
         "domain": [
          0,
          1
         ],
         "title": {
          "text": "result"
         }
        },
        "yaxis": {
         "anchor": "x",
         "domain": [
          0,
          1
         ],
         "title": {
          "text": "Likes"
         }
        }
       }
      }
     },
     "metadata": {},
     "output_type": "display_data"
    }
   ],
   "source": [
    "import plotly.express as px\n",
    "df = px.data.tips()\n",
    "fig = px.box(result_data, x=\"result\", y=\"Likes\")\n",
    "fig.show()"
   ]
  },
  {
   "cell_type": "code",
   "execution_count": null,
   "metadata": {},
   "outputs": [],
   "source": []
  }
 ],
 "metadata": {
  "kernelspec": {
   "display_name": "Python 3",
   "language": "python",
   "name": "python3"
  },
  "language_info": {
   "codemirror_mode": {
    "name": "ipython",
    "version": 3
   },
   "file_extension": ".py",
   "mimetype": "text/x-python",
   "name": "python",
   "nbconvert_exporter": "python",
   "pygments_lexer": "ipython3",
   "version": "3.10.11"
  },
  "orig_nbformat": 4
 },
 "nbformat": 4,
 "nbformat_minor": 2
}
